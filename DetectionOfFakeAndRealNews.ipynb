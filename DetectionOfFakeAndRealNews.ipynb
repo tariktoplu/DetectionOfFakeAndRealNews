{
 "cells": [
  {
   "cell_type": "markdown",
   "id": "4126bc44",
   "metadata": {},
   "source": [
    "# Detection of Fake and Real News"
   ]
  },
  {
   "cell_type": "markdown",
   "id": "17700949",
   "metadata": {},
   "source": [
    "## Installing the required libraries"
   ]
  },
  {
   "cell_type": "code",
   "execution_count": 1,
   "id": "662f9150",
   "metadata": {},
   "outputs": [],
   "source": [
    "import pandas as pd\n",
    "from sklearn.model_selection import train_test_split\n",
    "from sklearn.feature_extraction.text import CountVectorizer\n",
    "from sklearn.naive_bayes import MultinomialNB\n",
    "from sklearn.metrics import classification_report, confusion_matrix, roc_curve, auc, accuracy_score\n",
    "import seaborn as sns\n",
    "import matplotlib.pyplot as plt\n",
    "import re"
   ]
  },
  {
   "cell_type": "markdown",
   "id": "ef233ab7",
   "metadata": {},
   "source": [
    "## Upload data"
   ]
  },
  {
   "cell_type": "code",
   "execution_count": 2,
   "id": "eec2ffd9",
   "metadata": {},
   "outputs": [],
   "source": [
    "df_fake = pd.read_csv(\"DetectionOfFakeAndRealNews/Fake.csv\")\n",
    "df_true = pd.read_csv(\"DetectionOfFakeAndRealNews/True.csv\")\n"
   ]
  },
  {
   "cell_type": "markdown",
   "id": "25666d28",
   "metadata": {},
   "source": [
    "## Assign classes"
   ]
  },
  {
   "cell_type": "code",
   "execution_count": 3,
   "id": "9b708064",
   "metadata": {},
   "outputs": [],
   "source": [
    "df_fake[\"class\"] = 0\n",
    "df_true[\"class\"] = 1"
   ]
  },
  {
   "cell_type": "markdown",
   "id": "10218e21",
   "metadata": {},
   "source": [
    "## Merge data"
   ]
  },
  {
   "cell_type": "code",
   "execution_count": 4,
   "id": "c51c1f96",
   "metadata": {},
   "outputs": [],
   "source": [
    "df_merge = pd.concat([df_fake, df_true], axis=0)"
   ]
  },
  {
   "cell_type": "markdown",
   "id": "61865e68",
   "metadata": {},
   "source": [
    "## Viewing Data"
   ]
  },
  {
   "cell_type": "code",
   "execution_count": 5,
   "id": "8b62f299",
   "metadata": {},
   "outputs": [
    {
     "data": {
      "text/html": [
       "<div>\n",
       "<style scoped>\n",
       "    .dataframe tbody tr th:only-of-type {\n",
       "        vertical-align: middle;\n",
       "    }\n",
       "\n",
       "    .dataframe tbody tr th {\n",
       "        vertical-align: top;\n",
       "    }\n",
       "\n",
       "    .dataframe thead th {\n",
       "        text-align: right;\n",
       "    }\n",
       "</style>\n",
       "<table border=\"1\" class=\"dataframe\">\n",
       "  <thead>\n",
       "    <tr style=\"text-align: right;\">\n",
       "      <th></th>\n",
       "      <th>title</th>\n",
       "      <th>text</th>\n",
       "      <th>subject</th>\n",
       "      <th>date</th>\n",
       "      <th>class</th>\n",
       "    </tr>\n",
       "  </thead>\n",
       "  <tbody>\n",
       "    <tr>\n",
       "      <th>0</th>\n",
       "      <td>Donald Trump Sends Out Embarrassing New Year’...</td>\n",
       "      <td>Donald Trump just couldn t wish all Americans ...</td>\n",
       "      <td>News</td>\n",
       "      <td>December 31, 2017</td>\n",
       "      <td>0</td>\n",
       "    </tr>\n",
       "    <tr>\n",
       "      <th>1</th>\n",
       "      <td>Drunk Bragging Trump Staffer Started Russian ...</td>\n",
       "      <td>House Intelligence Committee Chairman Devin Nu...</td>\n",
       "      <td>News</td>\n",
       "      <td>December 31, 2017</td>\n",
       "      <td>0</td>\n",
       "    </tr>\n",
       "    <tr>\n",
       "      <th>2</th>\n",
       "      <td>Sheriff David Clarke Becomes An Internet Joke...</td>\n",
       "      <td>On Friday, it was revealed that former Milwauk...</td>\n",
       "      <td>News</td>\n",
       "      <td>December 30, 2017</td>\n",
       "      <td>0</td>\n",
       "    </tr>\n",
       "    <tr>\n",
       "      <th>3</th>\n",
       "      <td>Trump Is So Obsessed He Even Has Obama’s Name...</td>\n",
       "      <td>On Christmas day, Donald Trump announced that ...</td>\n",
       "      <td>News</td>\n",
       "      <td>December 29, 2017</td>\n",
       "      <td>0</td>\n",
       "    </tr>\n",
       "    <tr>\n",
       "      <th>4</th>\n",
       "      <td>Pope Francis Just Called Out Donald Trump Dur...</td>\n",
       "      <td>Pope Francis used his annual Christmas Day mes...</td>\n",
       "      <td>News</td>\n",
       "      <td>December 25, 2017</td>\n",
       "      <td>0</td>\n",
       "    </tr>\n",
       "  </tbody>\n",
       "</table>\n",
       "</div>"
      ],
      "text/plain": [
       "                                               title  \\\n",
       "0   Donald Trump Sends Out Embarrassing New Year’...   \n",
       "1   Drunk Bragging Trump Staffer Started Russian ...   \n",
       "2   Sheriff David Clarke Becomes An Internet Joke...   \n",
       "3   Trump Is So Obsessed He Even Has Obama’s Name...   \n",
       "4   Pope Francis Just Called Out Donald Trump Dur...   \n",
       "\n",
       "                                                text subject  \\\n",
       "0  Donald Trump just couldn t wish all Americans ...    News   \n",
       "1  House Intelligence Committee Chairman Devin Nu...    News   \n",
       "2  On Friday, it was revealed that former Milwauk...    News   \n",
       "3  On Christmas day, Donald Trump announced that ...    News   \n",
       "4  Pope Francis used his annual Christmas Day mes...    News   \n",
       "\n",
       "                date  class  \n",
       "0  December 31, 2017      0  \n",
       "1  December 31, 2017      0  \n",
       "2  December 30, 2017      0  \n",
       "3  December 29, 2017      0  \n",
       "4  December 25, 2017      0  "
      ]
     },
     "execution_count": 5,
     "metadata": {},
     "output_type": "execute_result"
    }
   ],
   "source": [
    "df_fake.head()"
   ]
  },
  {
   "cell_type": "code",
   "execution_count": 6,
   "id": "a82f5fb9",
   "metadata": {},
   "outputs": [
    {
     "data": {
      "text/html": [
       "<div>\n",
       "<style scoped>\n",
       "    .dataframe tbody tr th:only-of-type {\n",
       "        vertical-align: middle;\n",
       "    }\n",
       "\n",
       "    .dataframe tbody tr th {\n",
       "        vertical-align: top;\n",
       "    }\n",
       "\n",
       "    .dataframe thead th {\n",
       "        text-align: right;\n",
       "    }\n",
       "</style>\n",
       "<table border=\"1\" class=\"dataframe\">\n",
       "  <thead>\n",
       "    <tr style=\"text-align: right;\">\n",
       "      <th></th>\n",
       "      <th>title</th>\n",
       "      <th>text</th>\n",
       "      <th>subject</th>\n",
       "      <th>date</th>\n",
       "      <th>class</th>\n",
       "    </tr>\n",
       "  </thead>\n",
       "  <tbody>\n",
       "    <tr>\n",
       "      <th>0</th>\n",
       "      <td>As U.S. budget fight looms, Republicans flip t...</td>\n",
       "      <td>WASHINGTON (Reuters) - The head of a conservat...</td>\n",
       "      <td>politicsNews</td>\n",
       "      <td>December 31, 2017</td>\n",
       "      <td>1</td>\n",
       "    </tr>\n",
       "    <tr>\n",
       "      <th>1</th>\n",
       "      <td>U.S. military to accept transgender recruits o...</td>\n",
       "      <td>WASHINGTON (Reuters) - Transgender people will...</td>\n",
       "      <td>politicsNews</td>\n",
       "      <td>December 29, 2017</td>\n",
       "      <td>1</td>\n",
       "    </tr>\n",
       "    <tr>\n",
       "      <th>2</th>\n",
       "      <td>Senior U.S. Republican senator: 'Let Mr. Muell...</td>\n",
       "      <td>WASHINGTON (Reuters) - The special counsel inv...</td>\n",
       "      <td>politicsNews</td>\n",
       "      <td>December 31, 2017</td>\n",
       "      <td>1</td>\n",
       "    </tr>\n",
       "    <tr>\n",
       "      <th>3</th>\n",
       "      <td>FBI Russia probe helped by Australian diplomat...</td>\n",
       "      <td>WASHINGTON (Reuters) - Trump campaign adviser ...</td>\n",
       "      <td>politicsNews</td>\n",
       "      <td>December 30, 2017</td>\n",
       "      <td>1</td>\n",
       "    </tr>\n",
       "    <tr>\n",
       "      <th>4</th>\n",
       "      <td>Trump wants Postal Service to charge 'much mor...</td>\n",
       "      <td>SEATTLE/WASHINGTON (Reuters) - President Donal...</td>\n",
       "      <td>politicsNews</td>\n",
       "      <td>December 29, 2017</td>\n",
       "      <td>1</td>\n",
       "    </tr>\n",
       "  </tbody>\n",
       "</table>\n",
       "</div>"
      ],
      "text/plain": [
       "                                               title  \\\n",
       "0  As U.S. budget fight looms, Republicans flip t...   \n",
       "1  U.S. military to accept transgender recruits o...   \n",
       "2  Senior U.S. Republican senator: 'Let Mr. Muell...   \n",
       "3  FBI Russia probe helped by Australian diplomat...   \n",
       "4  Trump wants Postal Service to charge 'much mor...   \n",
       "\n",
       "                                                text       subject  \\\n",
       "0  WASHINGTON (Reuters) - The head of a conservat...  politicsNews   \n",
       "1  WASHINGTON (Reuters) - Transgender people will...  politicsNews   \n",
       "2  WASHINGTON (Reuters) - The special counsel inv...  politicsNews   \n",
       "3  WASHINGTON (Reuters) - Trump campaign adviser ...  politicsNews   \n",
       "4  SEATTLE/WASHINGTON (Reuters) - President Donal...  politicsNews   \n",
       "\n",
       "                 date  class  \n",
       "0  December 31, 2017       1  \n",
       "1  December 29, 2017       1  \n",
       "2  December 31, 2017       1  \n",
       "3  December 30, 2017       1  \n",
       "4  December 29, 2017       1  "
      ]
     },
     "execution_count": 6,
     "metadata": {},
     "output_type": "execute_result"
    }
   ],
   "source": [
    "df_true.head()"
   ]
  },
  {
   "cell_type": "markdown",
   "id": "7e380e98",
   "metadata": {},
   "source": [
    "## Remove unnecessary columns"
   ]
  },
  {
   "cell_type": "code",
   "execution_count": 7,
   "id": "c0d2273e",
   "metadata": {},
   "outputs": [],
   "source": [
    "df = df_merge.drop([\"title\", \"subject\", \"date\"], axis=1)"
   ]
  },
  {
   "cell_type": "markdown",
   "id": "a00ce3ff",
   "metadata": {},
   "source": [
    "## Text preprocessing function"
   ]
  },
  {
   "cell_type": "code",
   "execution_count": 10,
   "id": "1e40d98d",
   "metadata": {},
   "outputs": [],
   "source": [
    "def wordopt(text):\n",
    "    text = text.lower()\n",
    "    text = re.sub(r'\\s+', ' ', text)\n",
    "    text = re.sub(r\"[^a-zA-ZüğşıöçÜĞŞİÖÇ]\", ' ', text)\n",
    "    return text\n"
   ]
  },
  {
   "cell_type": "markdown",
   "id": "c06ad107",
   "metadata": {},
   "source": [
    "## Preprocess text data"
   ]
  },
  {
   "cell_type": "code",
   "execution_count": 11,
   "id": "60c53cc0",
   "metadata": {},
   "outputs": [],
   "source": [
    "df[\"text\"] = df[\"text\"].apply(wordopt)"
   ]
  },
  {
   "cell_type": "markdown",
   "id": "dbc178e2",
   "metadata": {},
   "source": [
    "## shuffle data"
   ]
  },
  {
   "cell_type": "code",
   "execution_count": 12,
   "id": "419f956d",
   "metadata": {},
   "outputs": [],
   "source": [
    "df = df.sample(frac=1).reset_index(drop=True)"
   ]
  },
  {
   "cell_type": "markdown",
   "id": "f65251e6",
   "metadata": {},
   "source": [
    "## Separation into training and test sets"
   ]
  },
  {
   "cell_type": "code",
   "execution_count": 13,
   "id": "9aa5de7d",
   "metadata": {},
   "outputs": [],
   "source": [
    "x_train, x_test, y_train, y_test = train_test_split(df[\"text\"], df[\"class\"], test_size=0.25, random_state=42)"
   ]
  },
  {
   "cell_type": "markdown",
   "id": "0affbdd1",
   "metadata": {},
   "source": [
    "## Convert text data to vectors"
   ]
  },
  {
   "cell_type": "code",
   "execution_count": 14,
   "id": "4270b204",
   "metadata": {},
   "outputs": [],
   "source": [
    "vectorizer = CountVectorizer(max_features=5000)\n",
    "x_train_vectors = vectorizer.fit_transform(x_train)\n",
    "x_test_vectors = vectorizer.transform(x_test)"
   ]
  },
  {
   "cell_type": "markdown",
   "id": "aefb91c9",
   "metadata": {},
   "source": [
    "## Train Multinomial Naive Bayes model"
   ]
  },
  {
   "cell_type": "code",
   "execution_count": 15,
   "id": "239af2ae",
   "metadata": {},
   "outputs": [
    {
     "data": {
      "text/html": [
       "<style>#sk-container-id-1 {color: black;}#sk-container-id-1 pre{padding: 0;}#sk-container-id-1 div.sk-toggleable {background-color: white;}#sk-container-id-1 label.sk-toggleable__label {cursor: pointer;display: block;width: 100%;margin-bottom: 0;padding: 0.3em;box-sizing: border-box;text-align: center;}#sk-container-id-1 label.sk-toggleable__label-arrow:before {content: \"▸\";float: left;margin-right: 0.25em;color: #696969;}#sk-container-id-1 label.sk-toggleable__label-arrow:hover:before {color: black;}#sk-container-id-1 div.sk-estimator:hover label.sk-toggleable__label-arrow:before {color: black;}#sk-container-id-1 div.sk-toggleable__content {max-height: 0;max-width: 0;overflow: hidden;text-align: left;background-color: #f0f8ff;}#sk-container-id-1 div.sk-toggleable__content pre {margin: 0.2em;color: black;border-radius: 0.25em;background-color: #f0f8ff;}#sk-container-id-1 input.sk-toggleable__control:checked~div.sk-toggleable__content {max-height: 200px;max-width: 100%;overflow: auto;}#sk-container-id-1 input.sk-toggleable__control:checked~label.sk-toggleable__label-arrow:before {content: \"▾\";}#sk-container-id-1 div.sk-estimator input.sk-toggleable__control:checked~label.sk-toggleable__label {background-color: #d4ebff;}#sk-container-id-1 div.sk-label input.sk-toggleable__control:checked~label.sk-toggleable__label {background-color: #d4ebff;}#sk-container-id-1 input.sk-hidden--visually {border: 0;clip: rect(1px 1px 1px 1px);clip: rect(1px, 1px, 1px, 1px);height: 1px;margin: -1px;overflow: hidden;padding: 0;position: absolute;width: 1px;}#sk-container-id-1 div.sk-estimator {font-family: monospace;background-color: #f0f8ff;border: 1px dotted black;border-radius: 0.25em;box-sizing: border-box;margin-bottom: 0.5em;}#sk-container-id-1 div.sk-estimator:hover {background-color: #d4ebff;}#sk-container-id-1 div.sk-parallel-item::after {content: \"\";width: 100%;border-bottom: 1px solid gray;flex-grow: 1;}#sk-container-id-1 div.sk-label:hover label.sk-toggleable__label {background-color: #d4ebff;}#sk-container-id-1 div.sk-serial::before {content: \"\";position: absolute;border-left: 1px solid gray;box-sizing: border-box;top: 0;bottom: 0;left: 50%;z-index: 0;}#sk-container-id-1 div.sk-serial {display: flex;flex-direction: column;align-items: center;background-color: white;padding-right: 0.2em;padding-left: 0.2em;position: relative;}#sk-container-id-1 div.sk-item {position: relative;z-index: 1;}#sk-container-id-1 div.sk-parallel {display: flex;align-items: stretch;justify-content: center;background-color: white;position: relative;}#sk-container-id-1 div.sk-item::before, #sk-container-id-1 div.sk-parallel-item::before {content: \"\";position: absolute;border-left: 1px solid gray;box-sizing: border-box;top: 0;bottom: 0;left: 50%;z-index: -1;}#sk-container-id-1 div.sk-parallel-item {display: flex;flex-direction: column;z-index: 1;position: relative;background-color: white;}#sk-container-id-1 div.sk-parallel-item:first-child::after {align-self: flex-end;width: 50%;}#sk-container-id-1 div.sk-parallel-item:last-child::after {align-self: flex-start;width: 50%;}#sk-container-id-1 div.sk-parallel-item:only-child::after {width: 0;}#sk-container-id-1 div.sk-dashed-wrapped {border: 1px dashed gray;margin: 0 0.4em 0.5em 0.4em;box-sizing: border-box;padding-bottom: 0.4em;background-color: white;}#sk-container-id-1 div.sk-label label {font-family: monospace;font-weight: bold;display: inline-block;line-height: 1.2em;}#sk-container-id-1 div.sk-label-container {text-align: center;}#sk-container-id-1 div.sk-container {/* jupyter's `normalize.less` sets `[hidden] { display: none; }` but bootstrap.min.css set `[hidden] { display: none !important; }` so we also need the `!important` here to be able to override the default hidden behavior on the sphinx rendered scikit-learn.org. See: https://github.com/scikit-learn/scikit-learn/issues/21755 */display: inline-block !important;position: relative;}#sk-container-id-1 div.sk-text-repr-fallback {display: none;}</style><div id=\"sk-container-id-1\" class=\"sk-top-container\"><div class=\"sk-text-repr-fallback\"><pre>MultinomialNB()</pre><b>In a Jupyter environment, please rerun this cell to show the HTML representation or trust the notebook. <br />On GitHub, the HTML representation is unable to render, please try loading this page with nbviewer.org.</b></div><div class=\"sk-container\" hidden><div class=\"sk-item\"><div class=\"sk-estimator sk-toggleable\"><input class=\"sk-toggleable__control sk-hidden--visually\" id=\"sk-estimator-id-1\" type=\"checkbox\" checked><label for=\"sk-estimator-id-1\" class=\"sk-toggleable__label sk-toggleable__label-arrow\">MultinomialNB</label><div class=\"sk-toggleable__content\"><pre>MultinomialNB()</pre></div></div></div></div></div>"
      ],
      "text/plain": [
       "MultinomialNB()"
      ]
     },
     "execution_count": 15,
     "metadata": {},
     "output_type": "execute_result"
    }
   ],
   "source": [
    "model = MultinomialNB()\n",
    "model.fit(x_train_vectors, y_train)"
   ]
  },
  {
   "cell_type": "markdown",
   "id": "da4568ee",
   "metadata": {},
   "source": [
    "## Test"
   ]
  },
  {
   "cell_type": "code",
   "execution_count": 16,
   "id": "6879ca9e",
   "metadata": {},
   "outputs": [],
   "source": [
    "y_pred = model.predict(x_test_vectors)"
   ]
  },
  {
   "cell_type": "markdown",
   "id": "74a8a9cc",
   "metadata": {},
   "source": [
    "## Evaluate the results"
   ]
  },
  {
   "cell_type": "code",
   "execution_count": 17,
   "id": "2090f528",
   "metadata": {},
   "outputs": [
    {
     "name": "stdout",
     "output_type": "stream",
     "text": [
      "              precision    recall  f1-score   support\n",
      "\n",
      "           0       0.96      0.94      0.95      5871\n",
      "           1       0.94      0.95      0.95      5354\n",
      "\n",
      "    accuracy                           0.95     11225\n",
      "   macro avg       0.95      0.95      0.95     11225\n",
      "weighted avg       0.95      0.95      0.95     11225\n",
      "\n",
      "Accuracy: 0.9485077951002228\n"
     ]
    }
   ],
   "source": [
    "print(classification_report(y_test, y_pred))\n",
    "print(f\"Accuracy: {accuracy_score(y_test, y_pred)}\")"
   ]
  },
  {
   "cell_type": "markdown",
   "id": "839bcd35",
   "metadata": {},
   "source": [
    "## Confusion Matrix"
   ]
  },
  {
   "cell_type": "code",
   "execution_count": 18,
   "id": "942cd4b8",
   "metadata": {},
   "outputs": [
    {
     "data": {
      "image/png": "[encoded data removed]",
      "text/plain": [
       "<Figure size 800x600 with 2 Axes>"
      ]
     },
     "metadata": {},
     "output_type": "display_data"
    }
   ],
   "source": [
    "cm = confusion_matrix(y_test, y_pred)\n",
    "plt.figure(figsize=(8, 6))\n",
    "sns.heatmap(cm, annot=True, fmt='d', cmap='Blues', xticklabels=['Fake', 'Not Fake'], yticklabels=['Fake', 'Not Fake'])\n",
    "plt.xlabel('Predicted')\n",
    "plt.ylabel('Actual')\n",
    "plt.title('Confusion Matrix')\n",
    "plt.show()"
   ]
  },
  {
   "cell_type": "markdown",
   "id": "6c860e00",
   "metadata": {},
   "source": [
    "## Getting 3 random news samples from the data set"
   ]
  },
  {
   "cell_type": "code",
   "execution_count": 43,
   "id": "8433eab4",
   "metadata": {},
   "outputs": [],
   "source": [
    "random_news = df.sample(3)['text'].tolist()"
   ]
  },
  {
   "cell_type": "markdown",
   "id": "d799321a",
   "metadata": {},
   "source": [
    "## Testing randomly selected news in the model"
   ]
  },
  {
   "cell_type": "code",
   "execution_count": 44,
   "id": "288355c8",
   "metadata": {},
   "outputs": [],
   "source": [
    "random_vectors = vectorizer.transform(random_news)\n",
    "random_predictions = model.predict(random_vectors)"
   ]
  },
  {
   "cell_type": "markdown",
   "id": "bb754c5b",
   "metadata": {},
   "source": [
    "## Printing predictions to the screen"
   ]
  },
  {
   "cell_type": "code",
   "execution_count": 45,
   "id": "21cb41bf",
   "metadata": {
    "scrolled": false
   },
   "outputs": [
    {
     "name": "stdout",
     "output_type": "stream",
     "text": [
      "Rastgele Haber 1:\n",
      "\n",
      "remember when bill o reilly took a vacation after his sexual harassment payoffs went public well let s hope jesse watters vacation is permanent too watters is a product of bill o reilly s former fox news program the racist and sexist segments known as watters world often targeted specific groups in a sick and twisted version of right wing humor from there watters was promoted as a guest host and just days after beginning a full time gig on the five he is already taking time off after making a crude oral sex joke about ivanka trump on the air while discussing trump being jeered and booed in germany for hypocritically talking about empowerment of women watters complained about liberals attacking ivanka and characterized those attacks as anti women even though what liberals are criticizing for is her blatant hypocrisy ivanka claims to be a champion for women s rights but stands idly by while her father signs executive orders reducing protections for women in short she is complicit by staying silent anyway watters couldn t control himself and ended up making a sex joke about ivanka only days after bill o reilly was fired for sexual harassment and his joke came just after whining about how liberals are supposedly disrespecting women by booing ivanka i really like the way she is speaking into that microphone watters said while gesturing with his hands implying that he s talking about oral sex here s the video via youtube watters later tried to cover his ass by claiming that he was merely talking about her voice on air i was referring to ivanka s voice and how it resonates like a smooth jazz radio dj watters wrote this was in no way a joke about anything else viewers of watters words and actions drew sharp criticism especially from conservative writer john podheretz who referred to watters as a disgusting creep you are so full of shit it s coming out your ears you disgusting creep https t co cnrfc rdc john podhoretz jpodhoretz april and now watters is going on a vacation for the rest of the week again watters was only on his third day on the job as a full time host of the five and he couldn t control himself from making a crude sex joke about a woman he demonstrated perfectly that the sexist environment at fox news has not changed at all it s merely been taken over by younger frat boys if fox news is serious about changing the culture at their network they should make sure watters stays on vacation featured image screenshot\n",
      "\n",
      "Sınıf: Sahte\n",
      "\n",
      "Rastgele Haber 2:\n",
      "\n",
      "trump transition team member devin nunes who inexplicably is leading the congressional investigation into trump s ties with russia recently got himself in a spot of trouble when he met with a source he will not reveal on the white house grounds in the middle of the night on wednesday to obtain sketchy intel that seems intended to back trump s claim that president obama tapped his wires nunes claims that he was shown u s surveillance documents that indicate numerous members of the trump team were indirectly surveilled when they contacted some shady foreign people who were being investigated instead of taking this information which may or may not be true as the alleged trump investigator refuses to show his work to his fellow investigators nunes admits he ran straight to the main subject of the investigation by thursday nunes was scrambling to apologize for corrupting the investigation by leaking details to the guy he s supposed to be investigating amid calls for him to recuse himself but nunes refuses to do so despite a clear conflict of interest on wednesday cnn caught up to nunes to ask if he will recuse himself and he decided the appropriate response was that of a third grader this is the mentality of the people with whom we are dealing they are like children who have been handed too much power and are f cking evil but really what did we expect given that nunes boss regularly employs the i know you are but what am i and but teacher he hit me too defenses watch it below instead of recusing himself from the trumprussia investigation devinnunes insults and denies just like realdonaldtrump russiagate pic twitter com nnwxeygt american bridge american bridge march featured image via screengrab\n",
      "\n",
      "Sınıf: Sahte\n",
      "\n",
      "Rastgele Haber 3:\n",
      "\n",
      "belfast reuters the british government on monday extended by hours a deadline for northern ireland s political parties to re establish a devolved regional executive and avoid london setting the region s annual budget for the first time in a decade the pro british democratic unionist party and the irish nationalist sinn fein party made progress in talks on monday and they will continue talking on tuesday the british government s minister for northern ireland james brokenshire said in the light of this i believe it is right to defer the assessment on whether to introduce legislation to parliament this week to enable an executive to be formed brokenshire said in a statement the parties will recommence talks in the morning and i will reassess the position tomorrow night he said adding that the british government would consider certain additional requests made by the parties brokenshire had earlier indicated that if there was no deal by the end of monday it would move to pass an annual budget for the region to ensure essential services are funded a budget set by the british government would be a major step towards direct rule from london for the first time in a decade which observers have warned could destabilize a delicate political balance in the region the dup and sinn fein have shared power for the past decade in a system created following a peace deal which ended three decades of violence in the province but sinn fein in january pulled out complaining it was not being treated as an equal partner talks between sinn fein and the dup have stalled in recent weeks in large part over proposals to improve the rights of irish language speakers ahead of the talks sinn fein regional assembly member conor murphy said the government could only be reformed on the basis of equality rights and respect which would require concessions from the dup while the dup also said it wanted to see the executive re established ahead of the talks it called for london to bring forward the budget to bring a measure of good government to northern ireland neither party spoke to assembled media on the state of the talks on monday evening the outcome of talks was not expected to have an impact on the dup s agreement to support british prime minister theresa may s government in the british parliament \n",
      "\n",
      "Sınıf: Gerçek\n",
      "\n"
     ]
    }
   ],
   "source": [
    "for i, news in enumerate(random_news):\n",
    "    label = \"Gerçek\" if random_predictions[i] == 1 else \"Sahte\"\n",
    "    print(f\"Rastgele Haber {i+1}:\\n\\n{news}\\n\\nSınıf: {label}\\n\")"
   ]
  },
  {
   "cell_type": "code",
   "execution_count": null,
   "id": "2462f25e",
   "metadata": {},
   "outputs": [],
   "source": []
  }
 ],
 "metadata": {
  "kernelspec": {
   "display_name": "Python 3 (ipykernel)",
   "language": "python",
   "name": "python3"
  },
  "language_info": {
   "codemirror_mode": {
    "name": "ipython",
    "version": 3
   },
   "file_extension": ".py",
   "mimetype": "text/x-python",
   "name": "python",
   "nbconvert_exporter": "python",
   "pygments_lexer": "ipython3",
   "version": "3.11.5"
  }
 },
 "nbformat": 4,
 "nbformat_minor": 5
}
